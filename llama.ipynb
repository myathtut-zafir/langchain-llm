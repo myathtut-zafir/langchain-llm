{
 "cells": [
  {
   "cell_type": "code",
   "execution_count": 8,
   "metadata": {},
   "outputs": [
    {
     "data": {
      "text/plain": [
       "'The City of Rangoon, also known as Yangon, is the largest city in Myanmar (formerly Burma). It was the country\\'s capital until 2006, when the government moved the capital to Naypyidaw. Rangoon is still the country\\'s commercial and cultural center.\\n\\nHere are some key facts about the City of Rangoon:\\n\\n1. **History**: Rangoon was founded in 1755 by King Alaungpaya, the founder of the Konbaung Dynasty. The city was originally called Dagon, but it was renamed Yangon (meaning \"end of strife\") in 1755.\\n2. **Colonial era**: In 1885, the British annexed Burma and made Rangoon the capital of the colony. During this period, the city underwent significant modernization and development, with the construction of roads, railways, and buildings.\\n3. **Architecture**: Rangoon is known for its mix of colonial and traditional Burmese architecture. The city is home to many historic buildings, including the Shwedagon Pagoda, the Sule Pagoda, and the High Court.\\n4. **Shwedagon Pagoda**: This 99-meter-tall (325 ft) pagoda is one of the most famous landmarks in Rangoon. It is believed to contain relics of the Buddha and is considered one of the most sacred sites in Buddhism.\\n5. **Cultural significance**: Rangoon is the cultural heart of Myanmar, with a rich tradition of music, dance, and art. The city is home to many museums, galleries, and performance venues.\\n6. **Economy**: Rangoon is the economic hub of Myanmar, with a diverse range of industries, including manufacturing, trade, and finance.\\n7. **Population**: The city has a population of over 5 million people, making it one of the largest cities in Southeast Asia.\\n8. **Climate**: Rangoon has a tropical monsoon climate, with high temperatures and high humidity throughout the year.\\n9. **Transportation**: The city is served by Yangon International Airport, which is one of the busiest airports in Southeast Asia. The city also has a comprehensive network of buses, taxis, and trains.\\n10. **Challenges**: Rangoon faces many challenges, including traffic congestion, pollution, and poverty. The city is also vulnerable to natural disasters, such as cyclones and floods.\\n\\nOverall, the City of Rangoon is a vibrant and fascinating place, with a rich history, culture, and economy.'"
      ]
     },
     "execution_count": 8,
     "metadata": {},
     "output_type": "execute_result"
    }
   ],
   "source": [
    "import os\n",
    "from langchain_groq import ChatGroq\n",
    "from dotenv import load_dotenv, find_dotenv\n",
    "_ = load_dotenv(find_dotenv())\n",
    "\n",
    "llm = ChatGroq(\n",
    "    model=\"llama-3.1-70b-versatile\",\n",
    "    temperature=0,\n",
    "    api_key=os.environ['GROQ_API_KEY']\n",
    ")\n",
    "\n",
    "response=llm.invoke(\"City of rangoon\")\n",
    "response.content"
   ]
  },
  {
   "cell_type": "code",
   "execution_count": 9,
   "metadata": {},
   "outputs": [
    {
     "name": "stderr",
     "output_type": "stream",
     "text": [
      "USER_AGENT environment variable not set, consider setting it to identify your requests.\n"
     ]
    },
    {
     "data": {
      "text/plain": [
       "'Apply for Software Engineer II, ITC\\n\\nSearch JobsSkip navigationSearch JobsNIKE, INC. JOBSContract JobsJoin The Talent CommunityLife @ NikeOverviewBenefitsBrandsOverviewJordanConverseTeamsOverviewAdministrative SupportAdvanced InnovationAir Manufacturing InnovationAviationCommunicationsCustomer ServiceDesignDigitalFacilitiesFinance & AccountingGovernment & Public AffairsHuman ResourcesInsights & AnalyticsLegalManufacturing & EngineeringMarketingMerchandisingPlanningPrivacyProcurementProduct Creation, Development & ManagementRetail CorporateRetail StoresSalesSocial & Community ImpactSports MarketingStrategic PlanningSupply Chain, Distribution & LogisticsSustainabilityTechnologyLocationsOverviewNike WHQNike New York HQEHQ: Hilversum, The NetherlandsELC: Laakdal, BelgiumGreater China HQDiversity, Equity & InclusionOverviewMilitary InclusionDisability InclusionIndigenous InclusionInternshipsTechnologySoftware Engineer II, ITCKarnataka, IndiaBecome a Part of the NIKE, Inc. TeamNIKE, Inc. does more than outfit the world’s best athletes. It is a place to explore potential, obliterate boundaries and push out the edges of what can be. The company looks for people who can grow, think, dream and create. Its culture thrives by embracing diversity and rewarding imagination. The brand seeks achievers, leaders and visionaries. At NIKE, Inc. it’s about each person bringing skills and passion to a challenging and constantly evolving game.NIKE is a technology company. From our flagship website and five-star mobile apps to developing products, managing big data and providing leading edge engineering and systems support, our teams at NIKE Global Technology exist to revolutionize the future at the confluence of tech and sport. We invest and develop advances in technology and employ the most creative people in the world, and then give them the support to constantly innovate, iterate and serve consumers more directly and personally.\\xa0 Our teams are innovative, diverse, multidisciplinary and collaborative, taking technology into the future and bringing the world with it.WHO YOU’LL WORK WITHThis role is part of the Nike’s Customer Data Platform within Marketing Technology. This team works on a variety of data points across Geos from Nike’ experiences, Data Science Models, Transaction Data, Permissions etc. which are stitched together to create a rich customer overview that provides the marketers a buffet of options to choose for a marketing activity or build a insight. This team is powered by Data Engineering, Customer Data platform software service and many home-grown tools based on cutting edge technologies.WHO WE ARE LOOKING FORWe are looking for a Software engineer, to be a part of Nike’s Marketing Technology organization. This position will play a critical role, in developing Nike’s Customer Data platform, which supports and promotes our products and provides a unique user experience to all our customers in166 countries globally. We are looking for someone to have a strong Data engineering and analytical background with a focus of delivering an omnichannel consumer experience through data driven marketing.We are looking for a candidate with a strong 2-5 years of experience on working on large datasets and should demonstrate below skills:Academic background in computer science (BE or B Tech) or equivalent work2-5 years of technology related experienceHands-on experience in data engineering developing batch and streaming pipelineHands on experience on Python or Java, SQL, Data Engineering, experience with the following tools or similar: Data Bricks Airflow, EMR, Hive, SparkDemonstrated strength in data modelling, ETL development, and data streamingExperience in microservices architecture, domain driven design, and RESTful API’sKnowledge of data management fundamentals and data storage principlesExperience in customizing product solutionsFamiliarity with the challenge of moving large files across a geographically disperse network. Knowledge of different accelerated transfer methods and technologiesExperience with implementing CI/CD and leading teams with DevOps responsibilities of deploying and supporting the software in productionExperience using cloud services to build an integrated application in production (AWS - EC2, ECS, API gateway, Lambda).Experience with implementing CI/CD and DevOps responsibilities of deploying and supporting the software in productionMarketing technology experience is a plusExperience integrating with various Adobe toolset in the marketing space would be a plus– in particular Adobe Experience Platform (AEP), Journey Orchestration (JO), Customer Journey Analytics(CJA)WHAT YOU’LL WORK ONThis role will be responsible for driving, owning, and shipping all aspects of large, multi-functional efforts feature areas and will partner with engineering teams throughout feature development from architecture, design, implementation, and validation.Design, and build large datasets, and data pipelines to support building out our new Customer Data Platform (CDP) which will enable advanced segmentation in Customer data platform, that creates unique customer experience targeting, automation, and analytics.Build complex data pipelines for real time data, click stream analysis and work to achieve high-quality data ingestion goals.The technology stack that you will be working on: Data Bricks, Python, AirFlow, AWS, EMR, Databricks.Innovating, architecting, designing, and implementing highly available, scalable systems, focusing on highly visible marketing initiatives\\xa0Contributing ideas for new features and identifying technical areas for improvement proactively\\xa0Collaborate with upstream and downstream technical teams to develop integrations to provide a seamless flow of our marketing assets from planning to delivery.\\xa0\\xa0NIKE, Inc. is a growth company that looks for team members to grow with it. Nike offers a generous total rewards package, casual work environment, a diverse and inclusive culture, and an electric atmosphere for professional development. No matter the location, or the role, every Nike employee shares one galvanizing mission: To bring inspiration and innovation to every athlete* in the world.NIKE, Inc. is committed to employing a diverse workforce. Qualified applicants will receive consideration without regard to race, color, religion, sex, national origin, age, sexual orientation, gender identity, gender expression, veteran status, or disability.How We HireAt NIKE, Inc. we promise to provide a premium, inclusive, compelling and authentic candidate experience. Delivering on this promise means we allow you to be at your best — and to do that, you need to understand how the hiring process works. Transparency is key.\\r\\n\\r\\n* This overview explains our hiring process for corporate roles. Note there may be different hiring steps involved for non-corporate roles.Start nowBenefitsWhether it’s transportation or financial health, we continually invest in our employees to help them achieve greatness — inside and outside of work. All who work here should be able to realize their full potential.Employee Assistance ProgramHolidaysMedical PlanPaid Time Off (PTO)Product DiscountsLearn moreค้นหาร้านค้าสมัครเป็นสมาชิกลงทะเบียนเพื่อรับข่าวสารรับความช่วยเหลือรับความช่วยเหลือสถานะคำสั่งซื้อการส่งมอบการคืนสินค้าทางเลือกการชำระเงินติดต่อเราเกี่ยวกับ NIKEเกี่ยวกับ NIKEข่าวสารร่วมงานกับเราร่วมลงทุนกับเราความยั่งยืนไทย© 2024 Nike, Inc. สงวนลิขสิทธิ์คำแนะนำNike AdaptNike Air MaxNike FlyleatherNike PegasusNike Zoom FlyNike AirNike FlyEaseNike FreeNike ReactNike ZoomXNike Air Force 1Nike FlyknitNike JoyrideNike Vaporflyเงื่อนไขการขายข้อกำหนดการใช้นโยบายความเป็นส่วนตัวของ Nike'"
      ]
     },
     "execution_count": 9,
     "metadata": {},
     "output_type": "execute_result"
    }
   ],
   "source": [
    "from langchain_community.document_loaders import WebBaseLoader\n",
    "loader = WebBaseLoader(\"https://jobs.nike.com/job/R-40715?from=job%20search%20funnel\")\n",
    "page_data=loader.load().pop().page_content\n",
    "page_data"
   ]
  },
  {
   "cell_type": "code",
   "execution_count": 12,
   "metadata": {},
   "outputs": [
    {
     "name": "stdout",
     "output_type": "stream",
     "text": [
      "```json\n",
      "{\n",
      "  \"role\": \"Software Engineer II, ITC\",\n",
      "  \"experience\": \"2-5 years\",\n",
      "  \"skills\": [\n",
      "    \"Data engineering\",\n",
      "    \"Python or Java\",\n",
      "    \"SQL\",\n",
      "    \"Data Bricks Airflow, EMR, Hive, Spark\",\n",
      "    \"Microservices architecture\",\n",
      "    \"Domain driven design\",\n",
      "    \"RESTful API's\",\n",
      "    \"Data management fundamentals\",\n",
      "    \"Data storage principles\",\n",
      "    \"CI/CD\",\n",
      "    \"DevOps\",\n",
      "    \"Cloud services (AWS - EC2, ECS, API gateway, Lambda)\",\n",
      "    \"Marketing technology experience (plus)\",\n",
      "    \"Adobe toolset experience (plus)\"\n",
      "  ],\n",
      "  \"description\": \"Design, build, and maintain large datasets and data pipelines to support building out our new Customer Data Platform (CDP). Innovate, architect, design, and implement highly available, scalable systems, focusing on highly visible marketing initiatives. Collaborate with upstream and downstream technical teams to develop integrations to provide a seamless flow of our marketing assets from planning to delivery.\"\n",
      "}\n",
      "```\n"
     ]
    }
   ],
   "source": [
    "from langchain_core.prompts import PromptTemplate\n",
    "prompt_extract = PromptTemplate.from_template(\n",
    "    \"\"\"\n",
    "        ### SCRAPED TEXT FROM WEBSITE:\n",
    "        {page_data}\n",
    "        ### INSTRUCTION:\n",
    "        The scraped text is from the career's page of a website.\n",
    "        Your job is to extract the job postings and return them in JSON format containing the \n",
    "        following keys: `role`, `experience`, `skills` and `description`.\n",
    "        Only return the valid JSON.\n",
    "        ### VALID JSON (NO PREAMBLE):    \n",
    "        \"\"\"\n",
    ")\n",
    "chain_extract=prompt_extract|llm\n",
    "res=chain_extract.invoke(input={'page_data':page_data})\n",
    "print(res.content)\n"
   ]
  },
  {
   "cell_type": "code",
   "execution_count": 13,
   "metadata": {},
   "outputs": [
    {
     "data": {
      "text/plain": [
       "{'role': 'Software Engineer II, ITC',\n",
       " 'experience': '2-5 years',\n",
       " 'skills': ['Data engineering',\n",
       "  'Python or Java',\n",
       "  'SQL',\n",
       "  'Data Bricks Airflow, EMR, Hive, Spark',\n",
       "  'Microservices architecture',\n",
       "  'Domain driven design',\n",
       "  \"RESTful API's\",\n",
       "  'Data management fundamentals',\n",
       "  'Data storage principles',\n",
       "  'CI/CD',\n",
       "  'DevOps',\n",
       "  'Cloud services (AWS - EC2, ECS, API gateway, Lambda)',\n",
       "  'Marketing technology experience (plus)',\n",
       "  'Adobe toolset experience (plus)'],\n",
       " 'description': 'Design, build, and maintain large datasets and data pipelines to support building out our new Customer Data Platform (CDP). Innovate, architect, design, and implement highly available, scalable systems, focusing on highly visible marketing initiatives. Collaborate with upstream and downstream technical teams to develop integrations to provide a seamless flow of our marketing assets from planning to delivery.'}"
      ]
     },
     "execution_count": 13,
     "metadata": {},
     "output_type": "execute_result"
    }
   ],
   "source": [
    "from langchain_core.output_parsers import JsonOutputParser\n",
    "json_parser=JsonOutputParser()\n",
    "json_res=json_parser.parse(res.content)\n",
    "json_res"
   ]
  },
  {
   "cell_type": "code",
   "execution_count": null,
   "metadata": {},
   "outputs": [],
   "source": [
    "import pandas as pd\n",
    "df=pd.read_csv('./my_portfolio.csv')\n",
    "df"
   ]
  },
  {
   "cell_type": "code",
   "execution_count": 15,
   "metadata": {},
   "outputs": [],
   "source": [
    "import uuid\n",
    "import chromadb\n",
    "\n",
    "client = chromadb.PersistentClient('vectorstore')\n",
    "collection = client.get_or_create_collection(name=\"portfolio\")\n",
    "\n",
    "if not collection.count():\n",
    "    for _, row in df.iterrows():\n",
    "        collection.add(documents=row[\"Techstack\"],\n",
    "                       metadatas={\"links\": row[\"Links\"]},\n",
    "                       ids=[str(uuid.uuid4())])"
   ]
  },
  {
   "cell_type": "code",
   "execution_count": 19,
   "metadata": {},
   "outputs": [
    {
     "data": {
      "text/plain": [
       "[[{'links': 'https://example.com/android-tv-portfolio'},\n",
       "  {'links': 'https://example.com/android-portfolio'}]]"
      ]
     },
     "execution_count": 19,
     "metadata": {},
     "output_type": "execute_result"
    }
   ],
   "source": [
    "#testing\n",
    "links = collection.query(query_texts=['tv'], n_results=2).get('metadatas', [])\n",
    "links"
   ]
  },
  {
   "cell_type": "code",
   "execution_count": null,
   "metadata": {},
   "outputs": [],
   "source": [
    "job=json_res\n",
    "links = collection.query(query_texts=job['skills'], n_results=2).get('metadatas', [])\n",
    "links"
   ]
  },
  {
   "cell_type": "code",
   "execution_count": 24,
   "metadata": {},
   "outputs": [
    {
     "name": "stdout",
     "output_type": "stream",
     "text": [
      "Subject: Expert Software Engineering Services for Your Customer Data Platform (CDP)\n",
      "\n",
      "Dear Hiring Manager,\n",
      "\n",
      "I came across your job posting for a Software Engineer II, ITC, and I'm excited to introduce you to AtliQ, a leading AI & Software Consulting company. Our team of experts specializes in designing, building, and maintaining large datasets and data pipelines, which aligns perfectly with your requirements.\n",
      "\n",
      "With 2-5 years of experience in data engineering, our engineers are well-versed in Python, Java, SQL, and various data management tools like Data Bricks Airflow, EMR, Hive, and Spark. We also have expertise in microservices architecture, domain-driven design, RESTful APIs, and CI/CD pipelines. Our experience with cloud services, particularly AWS (EC2, ECS, API Gateway, Lambda), will ensure seamless integration with your existing infrastructure.\n",
      "\n",
      "Our portfolio showcases our capabilities in:\n",
      "\n",
      "* Data Engineering: https://example.com/ml-python-portfolio\n",
      "* DevOps: https://example.com/devops-portfolio\n",
      "* Cloud Services: https://example.com/full-stack-js-portfolio\n",
      "\n",
      "We've empowered numerous enterprises with tailored solutions, fostering scalability, process optimization, cost reduction, and heightened overall efficiency. Our team is committed to delivering high-quality solutions that meet your specific needs.\n",
      "\n",
      "I'd love to schedule a call to discuss how AtliQ can support your Customer Data Platform (CDP) initiatives. Please let me know if you're available for a quick call this week.\n",
      "\n",
      "Looking forward to hearing from you.\n",
      "\n",
      "Best regards,\n",
      "\n",
      "Mohan\n",
      "Business Development Executive\n",
      "AtliQ\n"
     ]
    }
   ],
   "source": [
    "prompt_email = PromptTemplate.from_template(\n",
    "   \"\"\"\n",
    "        ### JOB DESCRIPTION:\n",
    "        {job_description}\n",
    "        \n",
    "        ### INSTRUCTION:\n",
    "        You are Mohan, a business development executive at AtliQ. AtliQ is an AI & Software Consulting company dedicated to facilitating\n",
    "        the seamless integration of business processes through automated tools. \n",
    "        Over our experience, we have empowered numerous enterprises with tailored solutions, fostering scalability, \n",
    "        process optimization, cost reduction, and heightened overall efficiency. \n",
    "        Your job is to write a cold email to the client regarding the job mentioned above describing the capability of AtliQ \n",
    "        in fulfilling their needs.\n",
    "        Also add the most relevant ones from the following links to showcase Atliq's portfolio: {link_list}\n",
    "        Remember you are Mohan, BDE at AtliQ. \n",
    "        Do not provide a preamble.\n",
    "        ### EMAIL (NO PREAMBLE):\n",
    "        \n",
    "        \"\"\"\n",
    ")\n",
    "chain_email=prompt_email|llm\n",
    "res=chain_email.invoke({'job_description':str(job),'link_list':links})\n",
    "print(res.content)"
   ]
  }
 ],
 "metadata": {
  "kernelspec": {
   "display_name": "Python 3",
   "language": "python",
   "name": "python3"
  },
  "language_info": {
   "codemirror_mode": {
    "name": "ipython",
    "version": 3
   },
   "file_extension": ".py",
   "mimetype": "text/x-python",
   "name": "python",
   "nbconvert_exporter": "python",
   "pygments_lexer": "ipython3",
   "version": "3.12.4"
  }
 },
 "nbformat": 4,
 "nbformat_minor": 2
}
