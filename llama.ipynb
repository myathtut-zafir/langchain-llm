{
 "cells": [
  {
   "cell_type": "code",
   "execution_count": 7,
   "metadata": {},
   "outputs": [
    {
     "data": {
      "text/plain": [
       "'The City of Rangoon, also known as Yangon, is the largest city in Myanmar (formerly Burma). It was the country\\'s capital until 2006, when the government moved the capital to Naypyidaw. Rangoon is still the country\\'s commercial and cultural center.\\n\\nHere are some key facts about the City of Rangoon:\\n\\n1. **History**: Rangoon was founded in 1755 by King Alaungpaya, the founder of the Konbaung Dynasty. The city was originally called Dagon, but it was renamed Yangon (meaning \"end of strife\") in 1755.\\n2. **Colonial era**: In 1885, the British annexed Burma and made Rangoon the capital of the colony. During this period, the city underwent significant modernization and development, with the construction of roads, railways, and buildings.\\n3. **Architecture**: Rangoon is known for its mix of colonial and traditional Burmese architecture. The city is home to many historic buildings, including the Shwedagon Pagoda, the Sule Pagoda, and the High Court.\\n4. **Economy**: Rangoon is the economic hub of Myanmar, with a diverse range of industries, including manufacturing, trade, and services.\\n5. **Culture**: Rangoon is a culturally rich city, with a mix of Burmese, Indian, Chinese, and Western influences. The city is home to many festivals and events, including the Thingyan Water Festival and the Shwedagon Pagoda Festival.\\n6. **Population**: The population of Rangoon is approximately 5.2 million people, making it one of the largest cities in Southeast Asia.\\n7. **Language**: The official language of Rangoon is Burmese, but many people also speak English, as well as other languages such as Chinese and Indian dialects.\\n8. **Climate**: Rangoon has a tropical monsoon climate, with high temperatures and high humidity throughout the year.\\n9. **Tourism**: Rangoon is a popular tourist destination, with many attractions such as the Shwedagon Pagoda, the Sule Pagoda, and the National Museum.\\n10. **Infrastructure**: Rangoon has a well-developed infrastructure, with a international airport, a seaport, and a network of roads and railways.\\n\\nSome popular places to visit in Rangoon include:\\n\\n* Shwedagon Pagoda: a golden stupa that is one of the most sacred sites in Buddhism\\n* Sule Pagoda: a historic pagoda that is said to be over 2,000 years old\\n* National Museum: a museum that showcases the history and culture of Myanmar\\n* Bogyoke Aung San Market: a bustling market that sells everything from fresh produce to handicrafts\\n* Kandawgyi Lake: a large lake that is a popular spot for boating and picnicking.\\n\\nOverall, the City of Rangoon is a vibrant and fascinating place that offers a unique blend of traditional and modern culture.'"
      ]
     },
     "execution_count": 7,
     "metadata": {},
     "output_type": "execute_result"
    }
   ],
   "source": [
    "import os\n",
    "from langchain_groq import ChatGroq\n",
    "from dotenv import load_dotenv, find_dotenv\n",
    "_ = load_dotenv(find_dotenv())\n",
    "\n",
    "llm = ChatGroq(\n",
    "    model=\"llama-3.1-70b-versatile\",\n",
    "    temperature=0,\n",
    "    api_key=os.environ['GROQ_API_KEY']\n",
    ")\n",
    "\n",
    "response=llm.invoke(\"City of rangoon\")\n",
    "response.content"
   ]
  }
 ],
 "metadata": {
  "kernelspec": {
   "display_name": "Python 3",
   "language": "python",
   "name": "python3"
  },
  "language_info": {
   "codemirror_mode": {
    "name": "ipython",
    "version": 3
   },
   "file_extension": ".py",
   "mimetype": "text/x-python",
   "name": "python",
   "nbconvert_exporter": "python",
   "pygments_lexer": "ipython3",
   "version": "3.12.4"
  }
 },
 "nbformat": 4,
 "nbformat_minor": 2
}
